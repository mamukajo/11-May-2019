{
 "cells": [
  {
   "cell_type": "markdown",
   "metadata": {},
   "source": [
    "# Problem Solving and Programming\n",
    "## Day-13\n",
    "## Date-11 May 2019"
   ]
  },
  {
   "cell_type": "markdown",
   "metadata": {},
   "source": [
    "### Day objectives\n",
    "    *objective 1\n",
    "    *objective 2\n",
    "    *objective 3"
   ]
  },
  {
   "cell_type": "markdown",
   "metadata": {},
   "source": [
    "### Problem 1:\n",
    "\n",
    "#### Problem Statement\n",
    "Define a function to check if a given year is a leap year. Returns a boolean value\n",
    "\n",
    "#### Constraints\n",
    "\n",
    "### Test cases\n",
    "    *2000 -> True\n",
    "    *1900 -> False\n",
    "    *2012 -> True\n",
    "    *2020 -> True\n",
    "    *0200 -> False\n",
    "    "
   ]
  },
  {
   "cell_type": "code",
   "execution_count": 13,
   "metadata": {},
   "outputs": [
    {
     "data": {
      "text/plain": [
       "True"
      ]
     },
     "execution_count": 13,
     "metadata": {},
     "output_type": "execute_result"
    }
   ],
   "source": [
    "def leapyear(n):\n",
    "    if (n%400==0 or n%100!=0):\n",
    "        return True\n",
    "    elif(n%4!=0):\n",
    "        return False\n",
    "    else:\n",
    "        return False\n",
    "leapyear(2012)\n",
    "        \n",
    "\n",
    "    "
   ]
  },
  {
   "cell_type": "code",
   "execution_count": null,
   "metadata": {},
   "outputs": [],
   "source": []
  },
  {
   "cell_type": "markdown",
   "metadata": {},
   "source": [
    "### Problem 2:\n",
    "\n",
    "#### Problem Statement\n",
    " Define a function to convert a decimal number to the corresponding binary number\n",
    " \n",
    "#### Constraints\n",
    "\n",
    "### Test cases\n",
    "    *decimalToBinary(15) -> 1111\n",
    "    *decimalToBinary(1) -> 1"
   ]
  },
  {
   "cell_type": "code",
   "execution_count": 22,
   "metadata": {},
   "outputs": [
    {
     "name": "stdout",
     "output_type": "stream",
     "text": [
      "1010"
     ]
    }
   ],
   "source": [
    "def decimalToBinary(n):\n",
    "    if(n>1):\n",
    "        decimalToBinary(n//2)\n",
    "    print(n%2,end='')\n",
    "decimalToBinary(10)\n",
    "    "
   ]
  },
  {
   "cell_type": "code",
   "execution_count": null,
   "metadata": {},
   "outputs": [],
   "source": []
  },
  {
   "cell_type": "markdown",
   "metadata": {},
   "source": [
    "### Problem 3:\n",
    "\n",
    "#### Problem Statement\n",
    "Define a function to convert a binary number to the corresponding decimal number\n",
    "\n",
    "#### Constraints\n",
    "\n",
    "### Test cases\n",
    "    *binaryToDecimal(1100) -> 12\n",
    "    *binaryToDecimal(1010) -> 10\n",
    "    *binaryToDecimal(111000) -> 56"
   ]
  },
  {
   "cell_type": "code",
   "execution_count": 7,
   "metadata": {},
   "outputs": [
    {
     "data": {
      "text/plain": [
       "8"
      ]
     },
     "execution_count": 7,
     "metadata": {},
     "output_type": "execute_result"
    }
   ],
   "source": [
    "def binaryToDecimal(n):\n",
    "    num=n\n",
    "    dec=0\n",
    "    base=1\n",
    "    temp=num\n",
    "    while(temp):\n",
    "        rem=temp%10\n",
    "        temp=temp//10\n",
    "        dec=dec+base*rem\n",
    "        base=base*2\n",
    "    return dec\n",
    "binaryToDecimal(1000)"
   ]
  },
  {
   "cell_type": "code",
   "execution_count": null,
   "metadata": {},
   "outputs": [],
   "source": []
  },
  {
   "cell_type": "markdown",
   "metadata": {},
   "source": [
    "### Problem 4:\n",
    "\n",
    "#### Problem Statement\n",
    " Define a function to merge the characters of two strings alternatively. The remaining characters\n",
    "\n",
    " of the longer string are printed in the same order at the end.\n",
    " \n",
    "#### Constraints\n",
    "\n",
    "### Test cases\n",
    "    *mergeString('abcd', 'abcd') -> 'aabbccdd'\n",
    "    *mergeString('abc', '123456') -> 'a1b2c3456'\n",
    "    *mergeString('0', '123456') -> '0123456'"
   ]
  },
  {
   "cell_type": "code",
   "execution_count": 10,
   "metadata": {},
   "outputs": [
    {
     "name": "stdout",
     "output_type": "stream",
     "text": [
      "aabbccdd\n",
      "a1b2c3456\n",
      "0 123456\n"
     ]
    }
   ],
   "source": [
    "def mergeString(s1,s2):\n",
    "    k=[]\n",
    "    for count in range (0,len(max(s1,s2))):\n",
    "        k.append(s1[count]+s2[count])\n",
    "    if len(s1)<len(s2):\n",
    "        for count in range (len(s1),len(s2)):\n",
    "            k.append(s2[count])\n",
    "    else:\n",
    "        for count in range (len(s2),len(s1)):\n",
    "            k.append(s1[count])\n",
    "    return listmerge(k)\n",
    "def listmerge(k):\n",
    "    m=\"\"\n",
    "    for count in range(0,len(k)):\n",
    "        m=m+k[count]\n",
    "    return (m)\n",
    "print(mergeString('abcd', 'abcd'))\n",
    "print(mergeString('abc', '123456'))\n",
    "print(mergeString('0',' 123456'))"
   ]
  },
  {
   "cell_type": "code",
   "execution_count": null,
   "metadata": {},
   "outputs": [],
   "source": []
  }
 ],
 "metadata": {
  "kernelspec": {
   "display_name": "Python 3",
   "language": "python",
   "name": "python3"
  },
  "language_info": {
   "codemirror_mode": {
    "name": "ipython",
    "version": 3
   },
   "file_extension": ".py",
   "mimetype": "text/x-python",
   "name": "python",
   "nbconvert_exporter": "python",
   "pygments_lexer": "ipython3",
   "version": "3.7.3"
  }
 },
 "nbformat": 4,
 "nbformat_minor": 2
}
